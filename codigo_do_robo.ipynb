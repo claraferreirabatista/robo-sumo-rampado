{
 "cells": [
  {
   "cell_type": "code",
   "execution_count": 1,
   "metadata": {},
   "outputs": [],
   "source": [
    "import math  # Importa a biblioteca math para funções matemáticas"
   ]
  },
  {
   "cell_type": "code",
   "execution_count": 2,
   "metadata": {},
   "outputs": [],
   "source": [
    "class RoboSumo:\n",
    "    FAIXA_DETECAO = 10  # Constante para a faixa de detecção\n",
    "\n",
    "    def __init__(self, nome, peso, dimensoes):\n",
    "        # Inicializa os atributos do robô\n",
    "        self.nome = nome\n",
    "        self.peso = peso\n",
    "        self.dimensoes = dimensoes\n",
    "        self.rampa = False  # A rampa está desativada por padrão\n",
    "        self.posicao_x = 0\n",
    "        self.posicao_y = 0\n",
    "        self.orientacao_atual = 0  # Inicialmente, a orientação é 0 graus\n",
    "\n",
    "    def ativar_rampa(self):\n",
    "        # Ativa a rampa do robô\n",
    "        if not self.rampa:\n",
    "            self.rampa = True\n",
    "\n",
    "    def desativar_rampa(self):\n",
    "        # Desativa a rampa do robô\n",
    "        if self.rampa:\n",
    "            self.rampa = False\n",
    "\n",
    "    def mover(self, delta_x, delta_y):\n",
    "        # Move o robô em uma determinada quantidade de unidades delta_x e delta_y\n",
    "        self.posicao_x += delta_x\n",
    "        self.posicao_y += delta_y\n",
    "\n",
    "    def atualizar_orientacao(self, nova_orientacao):\n",
    "        # Atualiza a orientação atual do robô para uma nova orientação especificada\n",
    "        self.orientacao_atual = nova_orientacao\n",
    "\n",
    "    def manter_estabilidade_como_bussola(self, direcao_alvo):\n",
    "        # Calcula a diferença entre a orientação atual e a direção alvo\n",
    "        diferenca_orientacao = direcao_alvo - self.orientacao_atual\n",
    "\n",
    "        # Ajusta a diferença para estar dentro do intervalo [-180, 180] graus\n",
    "        if diferenca_orientacao > 180:\n",
    "            diferenca_orientacao -= 360\n",
    "        elif diferenca_orientacao < -180:\n",
    "            diferenca_orientacao += 360\n",
    "\n",
    "        # Define uma taxa de rotação para corrigir a orientação (ajuste conforme necessário)\n",
    "        taxa_rotacao = 5  # Graus por segundo\n",
    "\n",
    "        # Aplica a rotação para manter a orientação\n",
    "        if diferenca_orientacao > 0:\n",
    "            self.orientacao_atual += taxa_rotacao\n",
    "        elif diferenca_orientacao < 0:\n",
    "            self.orientacao_atual -= taxa_rotacao\n",
    "\n",
    "    def exibir_informacoes(self):\n",
    "        # Exibe informações sobre o robô\n",
    "        print(f\"Nome: {self.nome}\")\n",
    "        print(f\"Peso: {self.peso} kg\")\n",
    "        print(f\"Dimensões: {self.dimensoes[0]}x{self.dimensoes[1]} cm\")\n",
    "        print(f\"Rampa Ativada: {'Sim' if self.rampa else 'Não'}\")\n",
    "        print(f\"Posição atual: ({self.posicao_x}, {self.posicao_y})\")\n",
    "\n",
    "    @staticmethod\n",
    "    def usar_sensores(coordenadas_robo, coordenadas_oponente):\n",
    "        # Calcula a distância entre o robô e o oponente usando as coordenadas\n",
    "        distancia = math.sqrt((coordenadas_oponente[0] - coordenadas_robo[0])**2 +\n",
    "                              (coordenadas_oponente[1] - coordenadas_robo[1])**2)\n",
    "        if distancia <= RoboSumo.FAIXA_DETECAO:\n",
    "            return \"O oponente está próximo! Prepare-se para a ação.\"\n",
    "        else:\n",
    "            return \"O oponente está fora do alcance dos sensores.\"\n",
    "\n",
    "    def detectar_ataque_lateral(self, coordenadas_oponente):\n",
    "        # Obtém as coordenadas do robô e do oponente\n",
    "        x_robo, y_robo = self.posicao_x, self.posicao_y\n",
    "        x_oponente, y_oponente = coordenadas_oponente\n",
    "\n",
    "        # Calcula o ângulo entre o robô e o oponente\n",
    "        angulo = math.degrees(math.atan2(\n",
    "            y_oponente - y_robo, x_oponente - x_robo))\n",
    "\n",
    "        # Define uma sensibilidade angular para detectar ataque lateral\n",
    "        angulo_sensibilidade = 30\n",
    "\n",
    "        # Verifica se o ângulo está dentro da sensibilidade angular\n",
    "        if -angulo_sensibilidade <= angulo <= angulo_sensibilidade:\n",
    "            return True  # O oponente está atacando lateralmente\n",
    "        else:\n",
    "            return False  # O oponente não está atacando lateralmente\n"
   ]
  },
  {
   "cell_type": "markdown",
   "metadata": {},
   "source": [
    "\n",
    "ativar_rampa e desativar_rampa\n",
    "\n"
   ]
  },
  {
   "cell_type": "code",
   "execution_count": 3,
   "metadata": {},
   "outputs": [
    {
     "name": "stdout",
     "output_type": "stream",
     "text": [
      "Rampa Ativada: Sim\n",
      "Rampa Ativada: Não\n"
     ]
    }
   ],
   "source": [
    "# Criando um robô com as especificações fornecidas\n",
    "robo_rampado = RoboSumo(nome=\"Robô Rampado\", peso=2.75, dimensoes=(20, 20))\n",
    "\n",
    "# Ativando a rampa\n",
    "robo_rampado.ativar_rampa()\n",
    "\n",
    "# Verificando o status da rampa\n",
    "print(f\"Rampa Ativada: {'Sim' if robo_rampado.rampa else 'Não'}\")\n",
    "\n",
    "# Desativando a rampa\n",
    "robo_rampado.desativar_rampa()\n",
    "\n",
    "# Verificando o status da rampa novamente\n",
    "print(f\"Rampa Ativada: {'Sim' if robo_rampado.rampa else 'Não'}\")\n"
   ]
  },
  {
   "cell_type": "markdown",
   "metadata": {},
   "source": [
    "mover"
   ]
  },
  {
   "cell_type": "code",
   "execution_count": 4,
   "metadata": {},
   "outputs": [
    {
     "name": "stdout",
     "output_type": "stream",
     "text": [
      "Nome: Robô Rampado\n",
      "Peso: 2.75 kg\n",
      "Dimensões: 20x20 cm\n",
      "Rampa Ativada: Não\n",
      "Posição atual: (5, 3)\n"
     ]
    }
   ],
   "source": [
    "# Movendo o robô\n",
    "robo_rampado.mover(5, 3)\n",
    "\n",
    "# Exibindo informações atualizadas\n",
    "robo_rampado.exibir_informacoes()"
   ]
  },
  {
   "cell_type": "markdown",
   "metadata": {},
   "source": [
    "atualizar_orientacao"
   ]
  },
  {
   "cell_type": "code",
   "execution_count": 5,
   "metadata": {},
   "outputs": [],
   "source": [
    "# Atualizando a orientação do robô para 90 graus (leste)\n",
    "robo_rampado.atualizar_orientacao(90)"
   ]
  },
  {
   "cell_type": "markdown",
   "metadata": {},
   "source": [
    "usar_sensores"
   ]
  },
  {
   "cell_type": "code",
   "execution_count": 6,
   "metadata": {},
   "outputs": [
    {
     "name": "stdout",
     "output_type": "stream",
     "text": [
      "O oponente está próximo! Prepare-se para a ação.\n"
     ]
    }
   ],
   "source": [
    "# Coordenadas do robô e do oponente (exemplo)\n",
    "coordenadas_robo = (0, 0)\n",
    "coordenadas_oponente = (5, 3)\n",
    "\n",
    "# Utilizando os sensores e obtendo uma mensagem com base na distância\n",
    "mensagem = RoboSumo.usar_sensores(coordenadas_robo, coordenadas_oponente)\n",
    "print(mensagem)\n"
   ]
  },
  {
   "cell_type": "markdown",
   "metadata": {},
   "source": [
    "detectar_ataque_lateral"
   ]
  },
  {
   "cell_type": "code",
   "execution_count": 7,
   "metadata": {},
   "outputs": [
    {
     "name": "stdout",
     "output_type": "stream",
     "text": [
      "Ataque lateral detectado! Prepare-se para se defender.\n"
     ]
    }
   ],
   "source": [
    "# Coordenadas do robô e do oponente (exemplo)\n",
    "coordenadas_oponente = (5, 3)\n",
    "\n",
    "# Verificando se há um ataque lateral\n",
    "ataque_lateral = robo_rampado.detectar_ataque_lateral(coordenadas_oponente)\n",
    "if ataque_lateral:\n",
    "    print(\"Ataque lateral detectado! Prepare-se para se defender.\")\n",
    "else:\n",
    "    print(\"Não há ataque lateral iminente.\")\n"
   ]
  },
  {
   "cell_type": "code",
   "execution_count": 8,
   "metadata": {},
   "outputs": [
    {
     "name": "stdout",
     "output_type": "stream",
     "text": [
      "Nome: Robô Rampado\n",
      "Peso: 2.75 kg\n",
      "Dimensões: 20x20 cm\n",
      "Rampa Ativada: Não\n",
      "Posição atual: (5, 3)\n"
     ]
    }
   ],
   "source": [
    "# Exibindo informações do robô\n",
    "robo_rampado.exibir_informacoes()\n"
   ]
  },
  {
   "cell_type": "markdown",
   "metadata": {},
   "source": [
    "manter_estabilidade_como_bussola"
   ]
  },
  {
   "cell_type": "code",
   "execution_count": 9,
   "metadata": {},
   "outputs": [
    {
     "name": "stdout",
     "output_type": "stream",
     "text": [
      "Fim da tarefa de manter a direção.\n"
     ]
    }
   ],
   "source": [
    "def manter_direcao_alvo(robo, direcao_alvo):\n",
    "    try:\n",
    "        while True:\n",
    "            # Chama a função para manter a estabilidade como uma bússola\n",
    "            robo.manter_estabilidade_como_bussola(direcao_alvo)\n",
    "\n",
    "            # Outras ações e lógica de controle do robô aqui\n",
    "\n",
    "    except KeyboardInterrupt:\n",
    "        print(\"Fim da tarefa de manter a direção.\")\n",
    "\n",
    "# Exemplo de uso:\n",
    "direcao_alvo = 0  # Defina a direção alvo desejada (por exemplo, norte, que é 0 graus)\n",
    "manter_direcao_alvo(robo_rampado, direcao_alvo)\n"
   ]
  }
 ],
 "metadata": {
  "kernelspec": {
   "display_name": "Python 3",
   "language": "python",
   "name": "python3"
  },
  "language_info": {
   "codemirror_mode": {
    "name": "ipython",
    "version": 3
   },
   "file_extension": ".py",
   "mimetype": "text/x-python",
   "name": "python",
   "nbconvert_exporter": "python",
   "pygments_lexer": "ipython3",
   "version": "3.10.12"
  },
  "orig_nbformat": 4
 },
 "nbformat": 4,
 "nbformat_minor": 2
}
